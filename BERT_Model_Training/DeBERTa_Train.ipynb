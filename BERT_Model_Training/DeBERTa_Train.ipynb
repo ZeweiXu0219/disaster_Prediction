{
 "cells": [
  {
   "cell_type": "code",
   "execution_count": 1,
   "id": "0ca9addd-4c8c-48a0-b33f-f00352975ea8",
   "metadata": {},
   "outputs": [],
   "source": [
    "import re\n",
    "import torch\n",
    "import pickle\n",
    "import pandas as pd\n",
    "from datasets import Dataset\n",
    "from transformers import AutoTokenizer, AutoModelForSequenceClassification, Trainer, TrainingArguments\n",
    "from sklearn.metrics import accuracy_score, precision_recall_fscore_support\n",
    "from transformers import DebertaTokenizer, DebertaForSequenceClassification, TrainingArguments, Trainer"
   ]
  },
  {
   "cell_type": "markdown",
   "id": "b4de7b91-c7cb-402a-96aa-1584a55b0e07",
   "metadata": {},
   "source": [
    "### Check Device"
   ]
  },
  {
   "cell_type": "code",
   "execution_count": 2,
   "id": "9b61fac0-1e63-4b67-b124-cf41f6a6d045",
   "metadata": {},
   "outputs": [
    {
     "name": "stdout",
     "output_type": "stream",
     "text": [
      "cuda\n"
     ]
    }
   ],
   "source": [
    "device = torch.device(\"cuda\") if torch.cuda.is_available() else torch.device(\"cpu\")\n",
    "print(device)"
   ]
  },
  {
   "cell_type": "markdown",
   "id": "1ac583e6-ce2a-4a65-8ddc-0093b17a6a8e",
   "metadata": {},
   "source": [
    "### Load Model"
   ]
  },
  {
   "cell_type": "code",
   "execution_count": 3,
   "id": "55a0c044-b6ce-4070-86d1-cc6e4a7e9b92",
   "metadata": {},
   "outputs": [
    {
     "name": "stderr",
     "output_type": "stream",
     "text": [
      "Some weights of DebertaForSequenceClassification were not initialized from the model checkpoint at ./model/deberta-base/models--microsoft--deberta-base/snapshots/0d1b43ccf21b5acd9f4e5f7b077fa698f05cf195 and are newly initialized: ['classifier.bias', 'classifier.weight', 'pooler.dense.bias', 'pooler.dense.weight']\n",
      "You should probably TRAIN this model on a down-stream task to be able to use it for predictions and inference.\n"
     ]
    },
    {
     "data": {
      "text/plain": [
       "DebertaForSequenceClassification(\n",
       "  (deberta): DebertaModel(\n",
       "    (embeddings): DebertaEmbeddings(\n",
       "      (word_embeddings): Embedding(50265, 768, padding_idx=0)\n",
       "      (LayerNorm): DebertaLayerNorm()\n",
       "      (dropout): StableDropout()\n",
       "    )\n",
       "    (encoder): DebertaEncoder(\n",
       "      (layer): ModuleList(\n",
       "        (0-11): 12 x DebertaLayer(\n",
       "          (attention): DebertaAttention(\n",
       "            (self): DisentangledSelfAttention(\n",
       "              (in_proj): Linear(in_features=768, out_features=2304, bias=False)\n",
       "              (pos_dropout): StableDropout()\n",
       "              (pos_proj): Linear(in_features=768, out_features=768, bias=False)\n",
       "              (pos_q_proj): Linear(in_features=768, out_features=768, bias=True)\n",
       "              (dropout): StableDropout()\n",
       "            )\n",
       "            (output): DebertaSelfOutput(\n",
       "              (dense): Linear(in_features=768, out_features=768, bias=True)\n",
       "              (LayerNorm): DebertaLayerNorm()\n",
       "              (dropout): StableDropout()\n",
       "            )\n",
       "          )\n",
       "          (intermediate): DebertaIntermediate(\n",
       "            (dense): Linear(in_features=768, out_features=3072, bias=True)\n",
       "            (intermediate_act_fn): GELUActivation()\n",
       "          )\n",
       "          (output): DebertaOutput(\n",
       "            (dense): Linear(in_features=3072, out_features=768, bias=True)\n",
       "            (LayerNorm): DebertaLayerNorm()\n",
       "            (dropout): StableDropout()\n",
       "          )\n",
       "        )\n",
       "      )\n",
       "      (rel_embeddings): Embedding(1024, 768)\n",
       "    )\n",
       "  )\n",
       "  (pooler): ContextPooler(\n",
       "    (dense): Linear(in_features=768, out_features=768, bias=True)\n",
       "    (dropout): StableDropout()\n",
       "  )\n",
       "  (classifier): Linear(in_features=768, out_features=2, bias=True)\n",
       "  (dropout): StableDropout()\n",
       ")"
      ]
     },
     "execution_count": 3,
     "metadata": {},
     "output_type": "execute_result"
    }
   ],
   "source": [
    "deberta_model_dir = \"./model/deberta-base/models--microsoft--deberta-base/snapshots/0d1b43ccf21b5acd9f4e5f7b077fa698f05cf195\"\n",
    "tokenizer = DebertaTokenizer.from_pretrained(deberta_model_dir)\n",
    "model = DebertaForSequenceClassification.from_pretrained(deberta_model_dir, num_labels=2)\n",
    "model.to(device)"
   ]
  },
  {
   "cell_type": "markdown",
   "id": "390a781a-e1d0-470a-b7b6-147d96a2803d",
   "metadata": {},
   "source": [
    "### Load Dataset"
   ]
  },
  {
   "cell_type": "code",
   "execution_count": 4,
   "id": "b1d1fd08-0717-4bdd-b47c-f6911bbd98c5",
   "metadata": {},
   "outputs": [],
   "source": [
    "train_data = pd.read_csv(\"./data/clean_train.csv\")\n",
    "test_data = pd.read_csv(\"./data/clean_test.csv\")\n",
    "train_data['label'] = train_data['target']\n",
    "dataset = Dataset.from_pandas(train_data)"
   ]
  },
  {
   "cell_type": "code",
   "execution_count": 5,
   "id": "7c65c759-34cf-42a9-b62a-987893801fe6",
   "metadata": {},
   "outputs": [],
   "source": [
    "data = pd.read_csv(\"./data/clean_final_dataset.csv\")\n",
    "data['label'] = data['label'].astype('int64')"
   ]
  },
  {
   "cell_type": "code",
   "execution_count": 6,
   "id": "5f45ffd3-75b0-4f3a-b990-5cda11e11aa9",
   "metadata": {},
   "outputs": [
    {
     "data": {
      "application/vnd.jupyter.widget-view+json": {
       "model_id": "c55f57bc9a334739a0cda05557a2771d",
       "version_major": 2,
       "version_minor": 0
      },
      "text/plain": [
       "Map:   0%|          | 0/6718 [00:00<?, ? examples/s]"
      ]
     },
     "metadata": {},
     "output_type": "display_data"
    },
    {
     "name": "stdout",
     "output_type": "stream",
     "text": [
      "Train dataset size: 5374\n",
      "Eval dataset size: 1344\n"
     ]
    }
   ],
   "source": [
    "dataset = Dataset.from_pandas(data)\n",
    "# Define the preprocessing function\n",
    "def preprocess_function(examples):\n",
    "    return tokenizer(examples['text'], truncation=True, padding='max_length', max_length=200)\n",
    "\n",
    "# Preprocess the dataset\n",
    "encoded_dataset = dataset.map(preprocess_function, batched=True, load_from_cache_file=False)\n",
    "\n",
    "# Set the dataset format for PyTorch\n",
    "encoded_dataset.set_format(type='torch', columns=['input_ids', 'attention_mask', 'label'])\n",
    "\n",
    "# Split the dataset into training and evaluation sets\n",
    "train_test_split = encoded_dataset.train_test_split(test_size=0.2)\n",
    "train_dataset = train_test_split['train']\n",
    "eval_dataset = train_test_split['test']\n",
    "print(f\"Train dataset size: {len(train_dataset)}\")\n",
    "print(f\"Eval dataset size: {len(eval_dataset)}\")"
   ]
  },
  {
   "cell_type": "markdown",
   "id": "a3aaa02b-5a87-4adb-a2a4-76178686e9bf",
   "metadata": {},
   "source": [
    "### Define Training Arguments"
   ]
  },
  {
   "cell_type": "code",
   "execution_count": 7,
   "id": "9a8eadee-7575-4ff6-a97c-50a36859a06b",
   "metadata": {},
   "outputs": [
    {
     "name": "stderr",
     "output_type": "stream",
     "text": [
      "/home1/zhaolinz/.conda/envs/conda-env/lib/python3.12/site-packages/transformers/training_args.py:1568: FutureWarning: `evaluation_strategy` is deprecated and will be removed in version 4.46 of 🤗 Transformers. Use `eval_strategy` instead\n",
      "  warnings.warn(\n"
     ]
    }
   ],
   "source": [
    "training_args = TrainingArguments(\n",
    "    output_dir='./DeBERTa_results',\n",
    "    evaluation_strategy=\"epoch\",\n",
    "    save_strategy=\"epoch\",\n",
    "    per_device_train_batch_size=32,\n",
    "    per_device_eval_batch_size=4,\n",
    "    max_steps=150,\n",
    "    logging_dir='./logs.log',\n",
    "    logging_steps=10,\n",
    "    load_best_model_at_end=True,\n",
    "    fp16=True,  # Enable mixed precision training\n",
    ")\n"
   ]
  },
  {
   "cell_type": "markdown",
   "id": "26933353-e7a5-4068-b43a-d7c61cc0e6c0",
   "metadata": {},
   "source": [
    "### Define compute metrics function"
   ]
  },
  {
   "cell_type": "code",
   "execution_count": 8,
   "id": "024add2b-b01d-429c-9781-a19ae4d6a8b8",
   "metadata": {},
   "outputs": [],
   "source": [
    "def compute_metrics(pred):\n",
    "    labels = pred.label_ids\n",
    "    preds = pred.predictions.argmax(-1)\n",
    "    accuracy = accuracy_score(labels, preds)\n",
    "    precision, recall, f1, _ = precision_recall_fscore_support(labels, preds, average='binary')\n",
    "    return {\n",
    "        'accuracy': accuracy,\n",
    "        'precision': precision,\n",
    "        'recall': recall,\n",
    "        'f1': f1\n",
    "    }"
   ]
  },
  {
   "cell_type": "markdown",
   "id": "b4d6a5d1-a945-4e42-b21a-157fbf737c9f",
   "metadata": {},
   "source": [
    "### Create Trainer instance"
   ]
  },
  {
   "cell_type": "code",
   "execution_count": 9,
   "id": "7cab71c9-5e01-4353-b312-2f6931d4b670",
   "metadata": {},
   "outputs": [
    {
     "name": "stderr",
     "output_type": "stream",
     "text": [
      "Detected kernel version 3.10.0, which is below the recommended minimum of 5.5.0; this can cause the process to hang. It is recommended to upgrade the kernel to the minimum version or higher.\n",
      "max_steps is given, it will override any value given in num_train_epochs\n"
     ]
    }
   ],
   "source": [
    "trainer = Trainer(\n",
    "    model=model,\n",
    "    args=training_args,\n",
    "    train_dataset=train_dataset,\n",
    "    eval_dataset=eval_dataset,\n",
    "    compute_metrics=compute_metrics\n",
    ")"
   ]
  },
  {
   "cell_type": "markdown",
   "id": "db127725-aa4a-4a02-9021-4890ae59f9ec",
   "metadata": {
    "jp-MarkdownHeadingCollapsed": true
   },
   "source": [
    "### Train the model"
   ]
  },
  {
   "cell_type": "code",
   "execution_count": 10,
   "id": "131b65a6-5589-4651-ab5f-0108ad31e0d6",
   "metadata": {},
   "outputs": [],
   "source": [
    "torch.cuda.empty_cache()"
   ]
  },
  {
   "cell_type": "code",
   "execution_count": 11,
   "id": "a40370e2-17c6-4dd9-851b-85f54cc512f4",
   "metadata": {},
   "outputs": [
    {
     "data": {
      "text/html": [
       "\n",
       "    <div>\n",
       "      \n",
       "      <progress value='150' max='150' style='width:300px; height:20px; vertical-align: middle;'></progress>\n",
       "      [150/150 00:47, Epoch 0/1]\n",
       "    </div>\n",
       "    <table border=\"1\" class=\"dataframe\">\n",
       "  <thead>\n",
       " <tr style=\"text-align: left;\">\n",
       "      <th>Epoch</th>\n",
       "      <th>Training Loss</th>\n",
       "      <th>Validation Loss</th>\n",
       "      <th>Accuracy</th>\n",
       "      <th>Precision</th>\n",
       "      <th>Recall</th>\n",
       "      <th>F1</th>\n",
       "    </tr>\n",
       "  </thead>\n",
       "  <tbody>\n",
       "    <tr>\n",
       "      <td>0</td>\n",
       "      <td>0.349000</td>\n",
       "      <td>0.301403</td>\n",
       "      <td>0.878720</td>\n",
       "      <td>0.844697</td>\n",
       "      <td>0.846300</td>\n",
       "      <td>0.845498</td>\n",
       "    </tr>\n",
       "  </tbody>\n",
       "</table><p>"
      ],
      "text/plain": [
       "<IPython.core.display.HTML object>"
      ]
     },
     "metadata": {},
     "output_type": "display_data"
    },
    {
     "data": {
      "text/plain": [
       "TrainOutput(global_step=150, training_loss=0.3543388223648071, metrics={'train_runtime': 47.9168, 'train_samples_per_second': 100.174, 'train_steps_per_second': 3.13, 'total_flos': 574870498560000.0, 'train_loss': 0.3543388223648071, 'epoch': 0.8928571428571429})"
      ]
     },
     "execution_count": 11,
     "metadata": {},
     "output_type": "execute_result"
    }
   ],
   "source": [
    "trainer.train()"
   ]
  },
  {
   "cell_type": "markdown",
   "id": "64a45b1c-1afb-4785-8b24-bff0e6f74f7f",
   "metadata": {},
   "source": [
    "### Evaluation"
   ]
  },
  {
   "cell_type": "code",
   "execution_count": 12,
   "id": "039f7849-a97f-4ac2-a417-db5980a4b988",
   "metadata": {},
   "outputs": [
    {
     "data": {
      "text/html": [],
      "text/plain": [
       "<IPython.core.display.HTML object>"
      ]
     },
     "metadata": {},
     "output_type": "display_data"
    },
    {
     "name": "stdout",
     "output_type": "stream",
     "text": [
      "{'eval_loss': 0.3014028072357178, 'eval_accuracy': 0.8787202380952381, 'eval_precision': 0.8446969696969697, 'eval_recall': 0.8462998102466793, 'eval_f1': 0.8454976303317535, 'eval_runtime': 7.2713, 'eval_samples_per_second': 184.836, 'eval_steps_per_second': 46.209, 'epoch': 0.8928571428571429}\n"
     ]
    }
   ],
   "source": [
    "results = trainer.evaluate()\n",
    "print(results)"
   ]
  },
  {
   "cell_type": "markdown",
   "id": "60d73d11-b0f6-403c-8236-5cf5fb3c17ea",
   "metadata": {},
   "source": [
    "### Test Dataset"
   ]
  },
  {
   "cell_type": "code",
   "execution_count": 13,
   "id": "ee51c40e-fc69-4775-8678-1ce315277bba",
   "metadata": {},
   "outputs": [],
   "source": [
    "test_data = pd.read_csv(\"./data/tweets_testset.csv\")"
   ]
  },
  {
   "cell_type": "code",
   "execution_count": 14,
   "id": "a82d0fda-738e-4cf9-977a-2a7e2e754553",
   "metadata": {},
   "outputs": [
    {
     "data": {
      "text/html": [
       "<div>\n",
       "<style scoped>\n",
       "    .dataframe tbody tr th:only-of-type {\n",
       "        vertical-align: middle;\n",
       "    }\n",
       "\n",
       "    .dataframe tbody tr th {\n",
       "        vertical-align: top;\n",
       "    }\n",
       "\n",
       "    .dataframe thead th {\n",
       "        text-align: right;\n",
       "    }\n",
       "</style>\n",
       "<table border=\"1\" class=\"dataframe\">\n",
       "  <thead>\n",
       "    <tr style=\"text-align: right;\">\n",
       "      <th></th>\n",
       "      <th>text</th>\n",
       "      <th>label</th>\n",
       "      <th>location</th>\n",
       "      <th>disaster</th>\n",
       "    </tr>\n",
       "  </thead>\n",
       "  <tbody>\n",
       "    <tr>\n",
       "      <th>0</th>\n",
       "      <td>Calling all #developers! \\n\\nInnovate with our...</td>\n",
       "      <td>0</td>\n",
       "      <td>NaN</td>\n",
       "      <td>NaN</td>\n",
       "    </tr>\n",
       "    <tr>\n",
       "      <th>1</th>\n",
       "      <td>Switzerland BANS face coverings in public, inc...</td>\n",
       "      <td>0</td>\n",
       "      <td>Switzerland</td>\n",
       "      <td>NaN</td>\n",
       "    </tr>\n",
       "    <tr>\n",
       "      <th>2</th>\n",
       "      <td>Touchdown Mason meets Touchdown Jesus. \\n\\n#No...</td>\n",
       "      <td>0</td>\n",
       "      <td>NaN</td>\n",
       "      <td>NaN</td>\n",
       "    </tr>\n",
       "    <tr>\n",
       "      <th>3</th>\n",
       "      <td>Have you ever heard about population density o...</td>\n",
       "      <td>0</td>\n",
       "      <td>NaN</td>\n",
       "      <td>NaN</td>\n",
       "    </tr>\n",
       "    <tr>\n",
       "      <th>4</th>\n",
       "      <td>This is not divided.</td>\n",
       "      <td>0</td>\n",
       "      <td>NaN</td>\n",
       "      <td>NaN</td>\n",
       "    </tr>\n",
       "  </tbody>\n",
       "</table>\n",
       "</div>"
      ],
      "text/plain": [
       "                                                text  label     location  \\\n",
       "0  Calling all #developers! \\n\\nInnovate with our...      0          NaN   \n",
       "1  Switzerland BANS face coverings in public, inc...      0  Switzerland   \n",
       "2  Touchdown Mason meets Touchdown Jesus. \\n\\n#No...      0          NaN   \n",
       "3  Have you ever heard about population density o...      0          NaN   \n",
       "4                               This is not divided.      0          NaN   \n",
       "\n",
       "  disaster  \n",
       "0      NaN  \n",
       "1      NaN  \n",
       "2      NaN  \n",
       "3      NaN  \n",
       "4      NaN  "
      ]
     },
     "execution_count": 14,
     "metadata": {},
     "output_type": "execute_result"
    }
   ],
   "source": [
    "test_data.head(5)"
   ]
  },
  {
   "cell_type": "code",
   "execution_count": 15,
   "id": "024d2392-67ca-419b-a495-78317f238097",
   "metadata": {},
   "outputs": [],
   "source": [
    "test_data['label'] = test_data['label'].astype('int64')\n",
    "test_dataset = Dataset.from_pandas(test_data)"
   ]
  },
  {
   "cell_type": "code",
   "execution_count": 16,
   "id": "449eb2c7-607c-4ec5-8e2f-0c2b19778fec",
   "metadata": {},
   "outputs": [
    {
     "data": {
      "application/vnd.jupyter.widget-view+json": {
       "model_id": "96e7ba7d4eb642dabe04873c500ad551",
       "version_major": 2,
       "version_minor": 0
      },
      "text/plain": [
       "Map:   0%|          | 0/314 [00:00<?, ? examples/s]"
      ]
     },
     "metadata": {},
     "output_type": "display_data"
    }
   ],
   "source": [
    "encoded_new_test_dataset = test_dataset.map(preprocess_function, batched=True, load_from_cache_file=False)\n",
    "encoded_new_test_dataset.set_format(type='torch', columns=['input_ids', 'attention_mask', 'label'])"
   ]
  },
  {
   "cell_type": "code",
   "execution_count": 17,
   "id": "f493f582-80fc-4eee-bcd3-cc05fbcf3553",
   "metadata": {},
   "outputs": [],
   "source": [
    "predictions = trainer.predict(encoded_new_test_dataset)"
   ]
  },
  {
   "cell_type": "code",
   "execution_count": 19,
   "id": "a3df78c5-bbe8-4f4e-8acc-809d0710d505",
   "metadata": {},
   "outputs": [
    {
     "name": "stdout",
     "output_type": "stream",
     "text": [
      "{'test_loss': 0.5035289525985718, 'test_accuracy': 0.8535031847133758, 'test_precision': 0.5871559633027523, 'test_recall': 0.9846153846153847, 'test_f1': 0.735632183908046, 'test_runtime': 1.7921, 'test_samples_per_second': 175.213, 'test_steps_per_second': 44.082}\n"
     ]
    }
   ],
   "source": [
    "print(predictions.metrics) "
   ]
  },
  {
   "cell_type": "markdown",
   "id": "876c60d7-c97e-4e6f-b484-29c5433a6ba7",
   "metadata": {},
   "source": [
    "### DeBERTa Result\n",
    "- train_batch_size:32\n",
    "- By max steps:140\n",
    "- acc: 0.8535\n",
    "- precision: 0.587\n",
    "- recall: 0.9846\n",
    "- f1: 0.73"
   ]
  },
  {
   "cell_type": "code",
   "execution_count": 27,
   "id": "75c5e640-a558-43f5-b9b3-f5ee4eb397a2",
   "metadata": {},
   "outputs": [],
   "source": [
    "logits = predictions.predictions\n",
    "probabilities = torch.nn.functional.softmax(torch.tensor(logits), dim=-1)\n",
    "predicted_labels = torch.argmax(probabilities, dim=1).numpy()"
   ]
  },
  {
   "cell_type": "code",
   "execution_count": 28,
   "id": "a52b7f36-27f2-4e28-bdc9-52178ba5641f",
   "metadata": {},
   "outputs": [],
   "source": [
    "test_data['predicted_label'] = predicted_labels"
   ]
  },
  {
   "cell_type": "code",
   "execution_count": 29,
   "id": "9480f7e8-20b8-40ec-aad0-a8557bb76350",
   "metadata": {},
   "outputs": [
    {
     "data": {
      "text/html": [
       "<div>\n",
       "<style scoped>\n",
       "    .dataframe tbody tr th:only-of-type {\n",
       "        vertical-align: middle;\n",
       "    }\n",
       "\n",
       "    .dataframe tbody tr th {\n",
       "        vertical-align: top;\n",
       "    }\n",
       "\n",
       "    .dataframe thead th {\n",
       "        text-align: right;\n",
       "    }\n",
       "</style>\n",
       "<table border=\"1\" class=\"dataframe\">\n",
       "  <thead>\n",
       "    <tr style=\"text-align: right;\">\n",
       "      <th></th>\n",
       "      <th>text</th>\n",
       "      <th>label</th>\n",
       "      <th>location</th>\n",
       "      <th>disaster</th>\n",
       "      <th>predicted_label</th>\n",
       "    </tr>\n",
       "  </thead>\n",
       "  <tbody>\n",
       "    <tr>\n",
       "      <th>0</th>\n",
       "      <td>Calling all #developers! \\n\\nInnovate with our...</td>\n",
       "      <td>0</td>\n",
       "      <td>NaN</td>\n",
       "      <td>NaN</td>\n",
       "      <td>0</td>\n",
       "    </tr>\n",
       "    <tr>\n",
       "      <th>1</th>\n",
       "      <td>Switzerland BANS face coverings in public, inc...</td>\n",
       "      <td>0</td>\n",
       "      <td>Switzerland</td>\n",
       "      <td>NaN</td>\n",
       "      <td>0</td>\n",
       "    </tr>\n",
       "    <tr>\n",
       "      <th>2</th>\n",
       "      <td>Touchdown Mason meets Touchdown Jesus. \\n\\n#No...</td>\n",
       "      <td>0</td>\n",
       "      <td>NaN</td>\n",
       "      <td>NaN</td>\n",
       "      <td>0</td>\n",
       "    </tr>\n",
       "    <tr>\n",
       "      <th>3</th>\n",
       "      <td>Have you ever heard about population density o...</td>\n",
       "      <td>0</td>\n",
       "      <td>NaN</td>\n",
       "      <td>NaN</td>\n",
       "      <td>0</td>\n",
       "    </tr>\n",
       "    <tr>\n",
       "      <th>4</th>\n",
       "      <td>This is not divided.</td>\n",
       "      <td>0</td>\n",
       "      <td>NaN</td>\n",
       "      <td>NaN</td>\n",
       "      <td>0</td>\n",
       "    </tr>\n",
       "    <tr>\n",
       "      <th>5</th>\n",
       "      <td>Love this</td>\n",
       "      <td>0</td>\n",
       "      <td>NaN</td>\n",
       "      <td>NaN</td>\n",
       "      <td>0</td>\n",
       "    </tr>\n",
       "    <tr>\n",
       "      <th>6</th>\n",
       "      <td>Very revealing.\\n\\n$10.4m vs $582m. \\n\\nThe di...</td>\n",
       "      <td>0</td>\n",
       "      <td>NaN</td>\n",
       "      <td>NaN</td>\n",
       "      <td>0</td>\n",
       "    </tr>\n",
       "    <tr>\n",
       "      <th>7</th>\n",
       "      <td>Donald Trump has offered to help pay off the $...</td>\n",
       "      <td>0</td>\n",
       "      <td>NaN</td>\n",
       "      <td>NaN</td>\n",
       "      <td>0</td>\n",
       "    </tr>\n",
       "    <tr>\n",
       "      <th>8</th>\n",
       "      <td>MAGA: “The world loves Donald Trump.”\\n\\nScotl...</td>\n",
       "      <td>0</td>\n",
       "      <td>NaN</td>\n",
       "      <td>NaN</td>\n",
       "      <td>0</td>\n",
       "    </tr>\n",
       "    <tr>\n",
       "      <th>9</th>\n",
       "      <td>They love each other so much Oprah charged Kam...</td>\n",
       "      <td>0</td>\n",
       "      <td>NaN</td>\n",
       "      <td>NaN</td>\n",
       "      <td>0</td>\n",
       "    </tr>\n",
       "  </tbody>\n",
       "</table>\n",
       "</div>"
      ],
      "text/plain": [
       "                                                text  label     location  \\\n",
       "0  Calling all #developers! \\n\\nInnovate with our...      0          NaN   \n",
       "1  Switzerland BANS face coverings in public, inc...      0  Switzerland   \n",
       "2  Touchdown Mason meets Touchdown Jesus. \\n\\n#No...      0          NaN   \n",
       "3  Have you ever heard about population density o...      0          NaN   \n",
       "4                               This is not divided.      0          NaN   \n",
       "5                                          Love this      0          NaN   \n",
       "6  Very revealing.\\n\\n$10.4m vs $582m. \\n\\nThe di...      0          NaN   \n",
       "7  Donald Trump has offered to help pay off the $...      0          NaN   \n",
       "8  MAGA: “The world loves Donald Trump.”\\n\\nScotl...      0          NaN   \n",
       "9  They love each other so much Oprah charged Kam...      0          NaN   \n",
       "\n",
       "  disaster  predicted_label  \n",
       "0      NaN                0  \n",
       "1      NaN                0  \n",
       "2      NaN                0  \n",
       "3      NaN                0  \n",
       "4      NaN                0  \n",
       "5      NaN                0  \n",
       "6      NaN                0  \n",
       "7      NaN                0  \n",
       "8      NaN                0  \n",
       "9      NaN                0  "
      ]
     },
     "execution_count": 29,
     "metadata": {},
     "output_type": "execute_result"
    }
   ],
   "source": [
    "test_data.head(10)"
   ]
  },
  {
   "cell_type": "code",
   "execution_count": 32,
   "id": "82e1568f-f09f-4120-94ba-d96308867bfa",
   "metadata": {},
   "outputs": [
    {
     "name": "stdout",
     "output_type": "stream",
     "text": [
      "Accuracy: 0.8535\n",
      "Precision: 0.9107\n",
      "Recall: 0.8535\n",
      "F1 Score: 0.8649\n"
     ]
    }
   ],
   "source": [
    "from sklearn.metrics import accuracy_score, precision_score, recall_score, f1_score\n",
    "\n",
    "true_labels = test_data['label'].values\n",
    "predicted_labels = test_data['predicted_label'].values\n",
    "accuracy = accuracy_score(true_labels, predicted_labels)\n",
    "precision = precision_score(true_labels, predicted_labels, average='weighted')\n",
    "recall = recall_score(true_labels, predicted_labels, average='weighted')\n",
    "f1 = f1_score(true_labels, predicted_labels, average='weighted')\n",
    "\n",
    "print(f\"Accuracy: {accuracy:.4f}\")\n",
    "print(f\"Precision: {precision:.4f}\")\n",
    "print(f\"Recall: {recall:.4f}\")\n",
    "print(f\"F1 Score: {f1:.4f}\")"
   ]
  },
  {
   "cell_type": "code",
   "execution_count": 43,
   "id": "8cbccbc5-aa70-4485-9851-b61788e0197d",
   "metadata": {},
   "outputs": [
    {
     "data": {
      "text/plain": [
       "46"
      ]
     },
     "execution_count": 43,
     "metadata": {},
     "output_type": "execute_result"
    }
   ],
   "source": [
    "incorrect_rows = test_data[test_data['label'] != test_data['predicted_label']]\n",
    "incorrect_rows = incorrect_rows.reset_index(drop=True)\n",
    "len(incorrect_rows)"
   ]
  },
  {
   "cell_type": "code",
   "execution_count": 49,
   "id": "d2f46bcd-bb03-4e9c-9343-137eba83eaaf",
   "metadata": {},
   "outputs": [
    {
     "data": {
      "text/html": [
       "<div>\n",
       "<style scoped>\n",
       "    .dataframe tbody tr th:only-of-type {\n",
       "        vertical-align: middle;\n",
       "    }\n",
       "\n",
       "    .dataframe tbody tr th {\n",
       "        vertical-align: top;\n",
       "    }\n",
       "\n",
       "    .dataframe thead th {\n",
       "        text-align: right;\n",
       "    }\n",
       "</style>\n",
       "<table border=\"1\" class=\"dataframe\">\n",
       "  <thead>\n",
       "    <tr style=\"text-align: right;\">\n",
       "      <th></th>\n",
       "      <th>text</th>\n",
       "      <th>label</th>\n",
       "      <th>location</th>\n",
       "      <th>disaster</th>\n",
       "      <th>predicted_label</th>\n",
       "    </tr>\n",
       "  </thead>\n",
       "  <tbody>\n",
       "    <tr>\n",
       "      <th>0</th>\n",
       "      <td>BREAKING: The FEMA supervisor who instructed d...</td>\n",
       "      <td>0</td>\n",
       "      <td>NaN</td>\n",
       "      <td>NaN</td>\n",
       "      <td>1</td>\n",
       "    </tr>\n",
       "    <tr>\n",
       "      <th>1</th>\n",
       "      <td>BREAKING: Florida Governor Ron DeSantis has d...</td>\n",
       "      <td>0</td>\n",
       "      <td>Florida</td>\n",
       "      <td>hurricane</td>\n",
       "      <td>1</td>\n",
       "    </tr>\n",
       "    <tr>\n",
       "      <th>2</th>\n",
       "      <td>no one’s saying that you just want an excuse t...</td>\n",
       "      <td>1</td>\n",
       "      <td>NaN</td>\n",
       "      <td>kill people</td>\n",
       "      <td>0</td>\n",
       "    </tr>\n",
       "    <tr>\n",
       "      <th>3</th>\n",
       "      <td>Remember when conservatives said Superstorm Sa...</td>\n",
       "      <td>0</td>\n",
       "      <td>NaN</td>\n",
       "      <td>NaN</td>\n",
       "      <td>1</td>\n",
       "    </tr>\n",
       "    <tr>\n",
       "      <th>4</th>\n",
       "      <td>From a Canadian firefighter who knows what’s g...</td>\n",
       "      <td>0</td>\n",
       "      <td>Canada</td>\n",
       "      <td>wildfire</td>\n",
       "      <td>1</td>\n",
       "    </tr>\n",
       "    <tr>\n",
       "      <th>5</th>\n",
       "      <td>During the 2018 wildfires, this man captured h...</td>\n",
       "      <td>0</td>\n",
       "      <td>NaN</td>\n",
       "      <td>wildfire</td>\n",
       "      <td>1</td>\n",
       "    </tr>\n",
       "    <tr>\n",
       "      <th>6</th>\n",
       "      <td>4. Morning drive to work during Wildfires</td>\n",
       "      <td>0</td>\n",
       "      <td>NaN</td>\n",
       "      <td>NaN</td>\n",
       "      <td>1</td>\n",
       "    </tr>\n",
       "    <tr>\n",
       "      <th>7</th>\n",
       "      <td>This is a photo I saved from 2012 of a bobcat ...</td>\n",
       "      <td>0</td>\n",
       "      <td>NaN</td>\n",
       "      <td>wildfire</td>\n",
       "      <td>1</td>\n",
       "    </tr>\n",
       "    <tr>\n",
       "      <th>8</th>\n",
       "      <td>Almost a year ago, Oprah and Johnson faced bac...</td>\n",
       "      <td>0</td>\n",
       "      <td>NaN</td>\n",
       "      <td>wildfire</td>\n",
       "      <td>1</td>\n",
       "    </tr>\n",
       "    <tr>\n",
       "      <th>9</th>\n",
       "      <td>\"Please make no mistake. Climate change is the...</td>\n",
       "      <td>0</td>\n",
       "      <td>NaN</td>\n",
       "      <td>NaN</td>\n",
       "      <td>1</td>\n",
       "    </tr>\n",
       "  </tbody>\n",
       "</table>\n",
       "</div>"
      ],
      "text/plain": [
       "                                                text  label location  \\\n",
       "0  BREAKING: The FEMA supervisor who instructed d...      0      NaN   \n",
       "1   BREAKING: Florida Governor Ron DeSantis has d...      0  Florida   \n",
       "2  no one’s saying that you just want an excuse t...      1      NaN   \n",
       "3  Remember when conservatives said Superstorm Sa...      0      NaN   \n",
       "4  From a Canadian firefighter who knows what’s g...      0   Canada   \n",
       "5  During the 2018 wildfires, this man captured h...      0      NaN   \n",
       "6          4. Morning drive to work during Wildfires      0      NaN   \n",
       "7  This is a photo I saved from 2012 of a bobcat ...      0      NaN   \n",
       "8  Almost a year ago, Oprah and Johnson faced bac...      0      NaN   \n",
       "9  \"Please make no mistake. Climate change is the...      0      NaN   \n",
       "\n",
       "      disaster  predicted_label  \n",
       "0          NaN                1  \n",
       "1    hurricane                1  \n",
       "2  kill people                0  \n",
       "3          NaN                1  \n",
       "4     wildfire                1  \n",
       "5     wildfire                1  \n",
       "6          NaN                1  \n",
       "7     wildfire                1  \n",
       "8     wildfire                1  \n",
       "9          NaN                1  "
      ]
     },
     "execution_count": 49,
     "metadata": {},
     "output_type": "execute_result"
    }
   ],
   "source": [
    "incorrect_rows.head(10)"
   ]
  },
  {
   "cell_type": "code",
   "execution_count": 54,
   "id": "e748a6d7-53e2-4c10-8522-f214a4caeabb",
   "metadata": {},
   "outputs": [],
   "source": [
    "incorrect_rows = incorrect_rows[['text','label', 'predicted_label']]"
   ]
  },
  {
   "cell_type": "code",
   "execution_count": 55,
   "id": "11c832f9-daff-42eb-9edb-e50e9006931f",
   "metadata": {},
   "outputs": [],
   "source": [
    "import csv\n",
    "incorrect_rows.to_csv(\"./bad_case/DeBERTa_bad_case2.csv\", index=False)"
   ]
  },
  {
   "cell_type": "markdown",
   "id": "b8b71c4b-c0f6-4e36-93fe-4013910c909f",
   "metadata": {},
   "source": [
    "- acc: 0.8598\n",
    "- precision: 0.6\n",
    "- recall: 0.9692\n",
    "- f1: 0.7412"
   ]
  },
  {
   "cell_type": "markdown",
   "id": "0f6ebc76-c9be-4958-9392-e8bc79b06e95",
   "metadata": {},
   "source": [
    "### Bad Case Output - Test Dataset"
   ]
  },
  {
   "cell_type": "code",
   "execution_count": 24,
   "id": "90c0f696-ae7f-4338-80d2-7e9e789e1650",
   "metadata": {},
   "outputs": [],
   "source": [
    "bad_case_indices = [i for i, (true, pred) in enumerate(zip(true_labels, predicted_labels)) if true != pred]\n",
    "bad_cases = [eval_dataset[i] for i in bad_case_indices]"
   ]
  },
  {
   "cell_type": "markdown",
   "id": "a4aa09a0-1180-4018-a009-e29498534546",
   "metadata": {},
   "source": [
    "### Save Model"
   ]
  },
  {
   "cell_type": "code",
   "execution_count": null,
   "id": "cf28414c-1c86-4b52-81df-80dffe202c57",
   "metadata": {},
   "outputs": [],
   "source": [
    "output_dir = './DeBERTa_downloads/result'\n",
    "if trainer.model is not None:\n",
    "    trainer.model.save_pretrained(output_dir)\n",
    "    print(f\"Model saved to {output_dir}\")\n",
    "else:\n",
    "    print(\"Trainer model Load ERROR\")\n",
    "\n",
    "if tokenizer is not None:\n",
    "    tokenizer.save_pretrained(output_dir)\n",
    "    print(f\"Tokenizer saved to {output_dir}\")\n",
    "else:\n",
    "    print(\"Trainer tokenizer Load ERROR\")"
   ]
  },
  {
   "cell_type": "markdown",
   "id": "3890511f-8f83-4947-971b-099c063da0fa",
   "metadata": {},
   "source": [
    "#### To Use Saved Model "
   ]
  },
  {
   "cell_type": "code",
   "execution_count": null,
   "id": "18bd2d34-a247-4a91-bf1e-ae770ae7bc42",
   "metadata": {},
   "outputs": [],
   "source": [
    "saved_model_dir = './DeBERTa_downloads/result' # Replace with your model's save directory\n",
    "try:\n",
    "    model = RobertaForSequenceClassification.from_pretrained(saved_model_dir)\n",
    "    tokenizer = RobertaTokenizer.from_pretrained(saved_model_dir)\n",
    "    print(\"Model and tokenizer reloaded successfully!\")\n",
    "except Exception as e:\n",
    "    print(f\"Error reloading model or tokenizer: {e}\")"
   ]
  },
  {
   "cell_type": "code",
   "execution_count": null,
   "id": "e190950f-9d18-4582-a9cd-d889779f43ad",
   "metadata": {},
   "outputs": [],
   "source": [
    "device = torch.device(\"cuda\" if torch.cuda.is_available() else \"cpu\")\n",
    "model.to(device)  # Move the model to the appropriate device\n",
    "model.eval()  # Set the model to evaluation mode"
   ]
  },
  {
   "cell_type": "code",
   "execution_count": null,
   "id": "15934b44-2ce3-4e20-ab2c-850e440f6b94",
   "metadata": {},
   "outputs": [],
   "source": [
    "predictions = []\n",
    "with torch.no_grad():\n",
    "    for batch in test_data:\n",
    "        inputs = {key: batch[key].to(device) for key in ['input_ids', 'attention_mask']}\n",
    "        outputs = model(**inputs)  # Forward pass\n",
    "        logits = outputs.logits  # Logits output\n",
    "        batch_predictions = torch.argmax(logits, dim=-1).cpu().numpy()  # Get predicted class indices\n",
    "        predictions.extend(batch_predictions)  # Store predictions"
   ]
  }
 ],
 "metadata": {
  "kernelspec": {
   "display_name": "conda-env",
   "language": "python",
   "name": "torch-env"
  },
  "language_info": {
   "codemirror_mode": {
    "name": "ipython",
    "version": 3
   },
   "file_extension": ".py",
   "mimetype": "text/x-python",
   "name": "python",
   "nbconvert_exporter": "python",
   "pygments_lexer": "ipython3",
   "version": "3.12.3"
  }
 },
 "nbformat": 4,
 "nbformat_minor": 5
}
